{
 "cells": [
  {
   "cell_type": "code",
   "execution_count": 1,
   "metadata": {},
   "outputs": [],
   "source": [
    "import requests\n",
    "from bs4 import BeautifulSoup\n",
    "import pandas as pd\n",
    "import re\n",
    "import random\n",
    "import time"
   ]
  },
  {
   "cell_type": "code",
   "execution_count": 3,
   "metadata": {},
   "outputs": [
    {
     "data": {
      "text/html": [
       "<div>\n",
       "<style scoped>\n",
       "    .dataframe tbody tr th:only-of-type {\n",
       "        vertical-align: middle;\n",
       "    }\n",
       "\n",
       "    .dataframe tbody tr th {\n",
       "        vertical-align: top;\n",
       "    }\n",
       "\n",
       "    .dataframe thead th {\n",
       "        text-align: right;\n",
       "    }\n",
       "</style>\n",
       "<table border=\"1\" class=\"dataframe\">\n",
       "  <thead>\n",
       "    <tr style=\"text-align: right;\">\n",
       "      <th></th>\n",
       "      <th>ID</th>\n",
       "      <th>LINK</th>\n",
       "    </tr>\n",
       "  </thead>\n",
       "  <tbody>\n",
       "    <tr>\n",
       "      <th>0</th>\n",
       "      <td>520151</td>\n",
       "      <td>https://www.boat24.com/en/powerboats/bayliner/...</td>\n",
       "    </tr>\n",
       "    <tr>\n",
       "      <th>1</th>\n",
       "      <td>487909</td>\n",
       "      <td>https://www.boat24.com/en/sailingboats/sunreef...</td>\n",
       "    </tr>\n",
       "    <tr>\n",
       "      <th>2</th>\n",
       "      <td>542316</td>\n",
       "      <td>https://www.boat24.com/en/powerboats/beneteau/...</td>\n",
       "    </tr>\n",
       "    <tr>\n",
       "      <th>3</th>\n",
       "      <td>540325</td>\n",
       "      <td>https://www.boat24.com/en/powerboats/motortjal...</td>\n",
       "    </tr>\n",
       "    <tr>\n",
       "      <th>4</th>\n",
       "      <td>245597</td>\n",
       "      <td>https://www.boat24.com/en/catalog/powerboats/d...</td>\n",
       "    </tr>\n",
       "    <tr>\n",
       "      <th>...</th>\n",
       "      <td>...</td>\n",
       "      <td>...</td>\n",
       "    </tr>\n",
       "    <tr>\n",
       "      <th>21103</th>\n",
       "      <td>523255</td>\n",
       "      <td>https://www.boat24.com/en/powerboats/cremo/cre...</td>\n",
       "    </tr>\n",
       "    <tr>\n",
       "      <th>21104</th>\n",
       "      <td>516949</td>\n",
       "      <td>https://www.boat24.com/en/powerboats/quicksilv...</td>\n",
       "    </tr>\n",
       "    <tr>\n",
       "      <th>21105</th>\n",
       "      <td>420183</td>\n",
       "      <td>https://www.boat24.com/en/powerboats/spits-388...</td>\n",
       "    </tr>\n",
       "    <tr>\n",
       "      <th>21106</th>\n",
       "      <td>539399</td>\n",
       "      <td>https://www.boat24.com/en/powerboats/chaparral...</td>\n",
       "    </tr>\n",
       "    <tr>\n",
       "      <th>21107</th>\n",
       "      <td>527745</td>\n",
       "      <td>https://www.boat24.com/en/powerboats/campi-360...</td>\n",
       "    </tr>\n",
       "  </tbody>\n",
       "</table>\n",
       "<p>21108 rows × 2 columns</p>\n",
       "</div>"
      ],
      "text/plain": [
       "           ID                                               LINK\n",
       "0      520151  https://www.boat24.com/en/powerboats/bayliner/...\n",
       "1      487909  https://www.boat24.com/en/sailingboats/sunreef...\n",
       "2      542316  https://www.boat24.com/en/powerboats/beneteau/...\n",
       "3      540325  https://www.boat24.com/en/powerboats/motortjal...\n",
       "4      245597  https://www.boat24.com/en/catalog/powerboats/d...\n",
       "...       ...                                                ...\n",
       "21103  523255  https://www.boat24.com/en/powerboats/cremo/cre...\n",
       "21104  516949  https://www.boat24.com/en/powerboats/quicksilv...\n",
       "21105  420183  https://www.boat24.com/en/powerboats/spits-388...\n",
       "21106  539399  https://www.boat24.com/en/powerboats/chaparral...\n",
       "21107  527745  https://www.boat24.com/en/powerboats/campi-360...\n",
       "\n",
       "[21108 rows x 2 columns]"
      ]
     },
     "execution_count": 3,
     "metadata": {},
     "output_type": "execute_result"
    }
   ],
   "source": [
    "df = pd.read_csv('df_id_link.csv')\n",
    "df"
   ]
  }
 ],
 "metadata": {
  "kernelspec": {
   "display_name": "base",
   "language": "python",
   "name": "python3"
  },
  "language_info": {
   "codemirror_mode": {
    "name": "ipython",
    "version": 3
   },
   "file_extension": ".py",
   "mimetype": "text/x-python",
   "name": "python",
   "nbconvert_exporter": "python",
   "pygments_lexer": "ipython3",
   "version": "3.9.16"
  },
  "orig_nbformat": 4
 },
 "nbformat": 4,
 "nbformat_minor": 2
}
