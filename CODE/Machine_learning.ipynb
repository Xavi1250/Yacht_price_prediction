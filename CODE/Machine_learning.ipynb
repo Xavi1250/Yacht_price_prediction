{
 "cells": [
  {
   "cell_type": "code",
   "execution_count": 1,
   "metadata": {},
   "outputs": [],
   "source": [
    "import pandas as pd\n",
    "import seaborn as sns\n",
    "import numpy as np\n",
    "import matplotlib.pyplot as plt\n",
    "import plotly.graph_objects as go\n",
    "from sklearn.linear_model import LinearRegression as LinReg\n",
    "from sklearn.datasets import make_regression\n",
    "from sklearn.model_selection import train_test_split\n",
    "from sklearn import metrics\n",
    "from sklearn.linear_model import Ridge, Lasso\n",
    "from sklearn.linear_model import SGDRegressor\n",
    "from sklearn.neighbors import KNeighborsRegressor\n",
    "from sklearn.ensemble import GradientBoostingRegressor\n",
    "from sklearn.svm import SVR\n",
    "from sklearn.preprocessing import LabelEncoder\n",
    "from scipy.stats import trim_mean\n",
    "import seaborn as sns\n",
    "from Functions import get_dummies, label_encoder, get_models"
   ]
  },
  {
   "cell_type": "code",
   "execution_count": 2,
   "metadata": {},
   "outputs": [],
   "source": [
    "df_boats = pd.read_csv('../CSV/df_cleaned_without_nulls.csv')"
   ]
  },
  {
   "cell_type": "code",
   "execution_count": 3,
   "metadata": {},
   "outputs": [],
   "source": [
    "df_boats.drop(columns=['Unnamed: 0', 'ID', 'MODEL', 'LINK'], inplace=True)"
   ]
  },
  {
   "cell_type": "code",
   "execution_count": 4,
   "metadata": {},
   "outputs": [
    {
     "data": {
      "text/plain": [
       "306390.7870741223"
      ]
     },
     "execution_count": 4,
     "metadata": {},
     "output_type": "execute_result"
    }
   ],
   "source": [
    "df_boats.PRICE_EUR.mean()"
   ]
  },
  {
   "cell_type": "code",
   "execution_count": 5,
   "metadata": {},
   "outputs": [
    {
     "data": {
      "text/plain": [
       "148125.16650195062"
      ]
     },
     "execution_count": 5,
     "metadata": {},
     "output_type": "execute_result"
    }
   ],
   "source": [
    "from scipy.stats import trim_mean\n",
    "trim_mean(df_boats.PRICE_EUR, 0.1)"
   ]
  },
  {
   "cell_type": "code",
   "execution_count": 6,
   "metadata": {},
   "outputs": [
    {
     "data": {
      "text/plain": [
       "<AxesSubplot: xlabel='PRICE_EUR', ylabel='Count'>"
      ]
     },
     "execution_count": 6,
     "metadata": {},
     "output_type": "execute_result"
    },
    {
     "data": {
      "image/png": "[encoded data removed]",
      "text/plain": [
       "<Figure size 640x480 with 1 Axes>"
      ]
     },
     "metadata": {},
     "output_type": "display_data"
    }
   ],
   "source": [
    "import seaborn as sns\n",
    "sns.histplot(df_boats.PRICE_EUR)\n",
    "#sns.boxplot(df_boats.PRICE_EUR)"
   ]
  },
  {
   "cell_type": "code",
   "execution_count": 7,
   "metadata": {},
   "outputs": [
    {
     "name": "stdout",
     "output_type": "stream",
     "text": [
      "Jeanneau         278\n",
      "Bavaria          241\n",
      "Beneteau         219\n",
      "Sea              194\n",
      "Quicksilver      192\n",
      "                ... \n",
      "Selection          1\n",
      "Oxelo              1\n",
      "Swinboten          1\n",
      "Rivierklipper      1\n",
      "Boarnstream        1\n",
      "Name: MANUFACTURER, Length: 1810, dtype: int64\n"
     ]
    }
   ],
   "source": [
    "print(df_boats.MANUFACTURER.value_counts())\n"
   ]
  },
  {
   "cell_type": "code",
   "execution_count": 8,
   "metadata": {},
   "outputs": [
    {
     "name": "stdout",
     "output_type": "stream",
     "text": [
      "LOCATION\n",
      "unique values: 64\n",
      "\n",
      "CONDITION\n",
      "unique values: 2\n",
      "\n",
      "MANUFACTURER\n",
      "unique values: 1810\n",
      "\n",
      "YEAR BUILT\n",
      "unique values: 124\n",
      "\n",
      "CATEGORY\n",
      "unique values: 4\n",
      "\n",
      "SUBCATEGORY\n",
      "unique values: 45\n",
      "\n",
      "MATERIAL\n",
      "unique values: 9\n",
      "\n",
      "LENGTH (m)\n",
      "unique values: 1436\n",
      "\n",
      "BEAM (m)\n",
      "unique values: 556\n",
      "\n",
      "DRAUGHT\n",
      "unique values: 290\n",
      "\n",
      "NUM_ENGINES\n",
      "unique values: 4\n",
      "\n",
      "ENGINE_HP\n",
      "unique values: 493\n",
      "\n",
      "ENGINE_KW\n",
      "unique values: 430\n",
      "\n",
      "PRICE_EUR\n",
      "unique values: 2523\n",
      "\n"
     ]
    }
   ],
   "source": [
    "for column in df_boats.columns:\n",
    "    u = df_boats[column].nunique()\n",
    "    print(column)\n",
    "    print(f'unique values: {u}\\n')"
   ]
  },
  {
   "cell_type": "code",
   "execution_count": 9,
   "metadata": {},
   "outputs": [],
   "source": [
    "df_boats.drop(columns=['MANUFACTURER'], inplace=True)"
   ]
  },
  {
   "cell_type": "markdown",
   "metadata": {},
   "source": [
    "With get_dummies:"
   ]
  },
  {
   "cell_type": "code",
   "execution_count": 10,
   "metadata": {},
   "outputs": [],
   "source": [
    "columns_to_encode = ['LOCATION', 'CONDITION', 'CATEGORY', 'SUBCATEGORY', 'MATERIAL']"
   ]
  },
  {
   "cell_type": "code",
   "execution_count": 11,
   "metadata": {},
   "outputs": [],
   "source": [
    "df_dummies = get_dummies(df_boats, 'LOCATION', 'CONDITION', 'CATEGORY', 'SUBCATEGORY', 'MATERIAL')"
   ]
  },
  {
   "cell_type": "code",
   "execution_count": 12,
   "metadata": {},
   "outputs": [],
   "source": [
    "#encoded_columns = pd.get_dummies(df_boats[['LOCATION', 'CONDITION', 'CATEGORY', 'SUBCATEGORY', 'MATERIAL']])\n",
    "#dummies_boat_df = pd.concat([df_boats, encoded_columns], axis=1)"
   ]
  },
  {
   "cell_type": "code",
   "execution_count": 13,
   "metadata": {},
   "outputs": [],
   "source": [
    "#dummies_boat_df.drop(columns = ['LOCATION', 'CONDITION', 'CATEGORY', 'SUBCATEGORY', 'MATERIAL'], inplace=True)"
   ]
  },
  {
   "cell_type": "code",
   "execution_count": 14,
   "metadata": {},
   "outputs": [
    {
     "name": "stdout",
     "output_type": "stream",
     "text": [
      "Training: LinearRegression()\n",
      "Training: Ridge()\n",
      "Training: Lasso()\n"
     ]
    },
    {
     "name": "stderr",
     "output_type": "stream",
     "text": [
      "/opt/anaconda3/lib/python3.9/site-packages/sklearn/linear_model/_coordinate_descent.py:647: ConvergenceWarning: Objective did not converge. You might want to increase the number of iterations, check the scale of the features or consider increasing regularisation. Duality gap: 2.099e+15, tolerance: 7.968e+11\n",
      "  model = cd_fast.enet_coordinate_descent(\n"
     ]
    },
    {
     "name": "stdout",
     "output_type": "stream",
     "text": [
      "Training: SGDRegressor()\n",
      "Training: KNeighborsRegressor()\n",
      "Training: GradientBoostingRegressor()\n",
      "Training: SVR()\n",
      "------------lr------------\n",
      "\n",
      "MAE, error: 261488.8514618731\n",
      "MSE, error: 301591779873.1424\n",
      "RMSE, error: 549173.7246747538\n",
      "r2: 0.48784041634179964\n",
      "\n",
      "\n",
      "------------ridge------------\n",
      "\n",
      "MAE, error: 259399.45163041668\n",
      "MSE, error: 283511509400.49615\n",
      "RMSE, error: 532457.9883901604\n",
      "r2: 0.5185441172238101\n",
      "\n",
      "\n",
      "------------lasso------------\n",
      "\n",
      "MAE, error: 261513.72823416395\n",
      "MSE, error: 301287738000.9734\n",
      "RMSE, error: 548896.8373027607\n",
      "r2: 0.48835673664313617\n",
      "\n",
      "\n",
      "------------sgd------------\n",
      "\n",
      "MAE, error: 250707877825797.66\n",
      "MSE, error: 6.851715712213501e+28\n",
      "RMSE, error: 261757821510905.4\n",
      "r2: -1.1635502360136171e+17\n",
      "\n",
      "\n",
      "------------knn------------\n",
      "\n",
      "MAE, error: 144439.25537581276\n",
      "MSE, error: 213905556583.06592\n",
      "RMSE, error: 462499.25035946374\n",
      "r2: 0.636748120761647\n",
      "\n",
      "\n",
      "------------grad------------\n",
      "\n",
      "MAE, error: 140506.92853996798\n",
      "MSE, error: 407356555819.07086\n",
      "RMSE, error: 638244.9026972882\n",
      "r2: 0.30823192821604806\n",
      "\n",
      "\n",
      "------------svr------------\n",
      "\n",
      "MAE, error: 257438.20384378397\n",
      "MSE, error: 630023709061.0414\n",
      "RMSE, error: 793740.3284834665\n",
      "r2: -0.0698987905546462\n",
      "\n",
      "\n"
     ]
    }
   ],
   "source": [
    "get_models(df_dummies)"
   ]
  },
  {
   "cell_type": "code",
   "execution_count": 15,
   "metadata": {},
   "outputs": [],
   "source": [
    "#x = dummies_boat_df.drop(columns=['PRICE_EUR'])\n",
    "#y = dummies_boat_df.PRICE_EUR"
   ]
  },
  {
   "cell_type": "code",
   "execution_count": 16,
   "metadata": {},
   "outputs": [],
   "source": [
    "#x_train, x_test, y_train, y_test = train_test_split(x, y, test_size=0.2)"
   ]
  },
  {
   "cell_type": "code",
   "execution_count": 17,
   "metadata": {},
   "outputs": [],
   "source": [
    "#y_train.shape"
   ]
  },
  {
   "cell_type": "code",
   "execution_count": 18,
   "metadata": {},
   "outputs": [],
   "source": [
    "#models = {\n",
    "    #\"lr\": LinReg(),\n",
    "    #\"ridge\": Ridge(), #lr similar\n",
    "    #\"lasso\": Lasso(), # lr similar \n",
    "    #\"sgd\": SGDRegressor(),\n",
    "    #\"knn\": KNeighborsRegressor(),\n",
    "    #\"grad\": GradientBoostingRegressor(),\n",
    "    #\"svr\": SVR() #potato chip\n",
    "#}"
   ]
  },
  {
   "cell_type": "markdown",
   "metadata": {},
   "source": [
    "for model in models.values():\n",
    "    print(f\"Training: {model}\")\n",
    "    model.fit(x_train, y_train)"
   ]
  },
  {
   "cell_type": "markdown",
   "metadata": {},
   "source": [
    "for name, model in models.items():\n",
    "    y_pred = model.predict(x_test)\n",
    "    print(f\"------------{name}------------\\n\")\n",
    "    print(f\"MAE, error: {metrics.mean_absolute_error(y_test, y_pred)}\")\n",
    "    print(f\"MSE, error: {metrics.mean_squared_error(y_test, y_pred)}\")\n",
    "    print(f\"RMSE, error: {np.sqrt(metrics.mean_squared_error(y_test, y_pred))}\")\n",
    "    print(f\"r2: {metrics.r2_score(y_test, y_pred)}\")\n",
    "    print(\"\\n\")"
   ]
  },
  {
   "cell_type": "markdown",
   "metadata": {},
   "source": [
    "with LABEL ENCODER:"
   ]
  },
  {
   "cell_type": "code",
   "execution_count": 19,
   "metadata": {},
   "outputs": [
    {
     "data": {
      "text/html": [
       "<div>\n",
       "<style scoped>\n",
       "    .dataframe tbody tr th:only-of-type {\n",
       "        vertical-align: middle;\n",
       "    }\n",
       "\n",
       "    .dataframe tbody tr th {\n",
       "        vertical-align: top;\n",
       "    }\n",
       "\n",
       "    .dataframe thead th {\n",
       "        text-align: right;\n",
       "    }\n",
       "</style>\n",
       "<table border=\"1\" class=\"dataframe\">\n",
       "  <thead>\n",
       "    <tr style=\"text-align: right;\">\n",
       "      <th></th>\n",
       "      <th>LOCATION</th>\n",
       "      <th>CONDITION</th>\n",
       "      <th>YEAR BUILT</th>\n",
       "      <th>CATEGORY</th>\n",
       "      <th>SUBCATEGORY</th>\n",
       "      <th>MATERIAL</th>\n",
       "      <th>LENGTH (m)</th>\n",
       "      <th>BEAM (m)</th>\n",
       "      <th>DRAUGHT</th>\n",
       "      <th>NUM_ENGINES</th>\n",
       "      <th>ENGINE_HP</th>\n",
       "      <th>ENGINE_KW</th>\n",
       "      <th>PRICE_EUR</th>\n",
       "    </tr>\n",
       "  </thead>\n",
       "  <tbody>\n",
       "    <tr>\n",
       "      <th>0</th>\n",
       "      <td>Italy</td>\n",
       "      <td>USED BOAT</td>\n",
       "      <td>2015</td>\n",
       "      <td>sailingboats</td>\n",
       "      <td>Catamaran</td>\n",
       "      <td>GRP</td>\n",
       "      <td>23.00</td>\n",
       "      <td>10.40</td>\n",
       "      <td>2.40</td>\n",
       "      <td>2</td>\n",
       "      <td>240.0</td>\n",
       "      <td>177.0</td>\n",
       "      <td>2700000.0</td>\n",
       "    </tr>\n",
       "    <tr>\n",
       "      <th>1</th>\n",
       "      <td>Netherlands</td>\n",
       "      <td>USED BOAT</td>\n",
       "      <td>1916</td>\n",
       "      <td>powerboats</td>\n",
       "      <td>Trawler</td>\n",
       "      <td>Steel</td>\n",
       "      <td>18.60</td>\n",
       "      <td>3.62</td>\n",
       "      <td>1.10</td>\n",
       "      <td>1</td>\n",
       "      <td>160.0</td>\n",
       "      <td>118.0</td>\n",
       "      <td>79500.0</td>\n",
       "    </tr>\n",
       "    <tr>\n",
       "      <th>2</th>\n",
       "      <td>Switzerland</td>\n",
       "      <td>USED BOAT</td>\n",
       "      <td>1981</td>\n",
       "      <td>sailingboats</td>\n",
       "      <td>Sailing Yacht</td>\n",
       "      <td>GRP</td>\n",
       "      <td>8.90</td>\n",
       "      <td>3.10</td>\n",
       "      <td>1.52</td>\n",
       "      <td>1</td>\n",
       "      <td>19.0</td>\n",
       "      <td>14.0</td>\n",
       "      <td>20298.0</td>\n",
       "    </tr>\n",
       "    <tr>\n",
       "      <th>3</th>\n",
       "      <td>Germany</td>\n",
       "      <td>USED BOAT</td>\n",
       "      <td>1978</td>\n",
       "      <td>sailingboats</td>\n",
       "      <td>Keelboat</td>\n",
       "      <td>GRP</td>\n",
       "      <td>7.30</td>\n",
       "      <td>2.30</td>\n",
       "      <td>0.40</td>\n",
       "      <td>1</td>\n",
       "      <td>60.0</td>\n",
       "      <td>44.0</td>\n",
       "      <td>5500.0</td>\n",
       "    </tr>\n",
       "    <tr>\n",
       "      <th>4</th>\n",
       "      <td>Netherlands</td>\n",
       "      <td>USED BOAT</td>\n",
       "      <td>2001</td>\n",
       "      <td>powerboats</td>\n",
       "      <td>Sloep</td>\n",
       "      <td>GRP</td>\n",
       "      <td>7.20</td>\n",
       "      <td>2.45</td>\n",
       "      <td>0.60</td>\n",
       "      <td>1</td>\n",
       "      <td>24.0</td>\n",
       "      <td>18.0</td>\n",
       "      <td>44500.0</td>\n",
       "    </tr>\n",
       "    <tr>\n",
       "      <th>...</th>\n",
       "      <td>...</td>\n",
       "      <td>...</td>\n",
       "      <td>...</td>\n",
       "      <td>...</td>\n",
       "      <td>...</td>\n",
       "      <td>...</td>\n",
       "      <td>...</td>\n",
       "      <td>...</td>\n",
       "      <td>...</td>\n",
       "      <td>...</td>\n",
       "      <td>...</td>\n",
       "      <td>...</td>\n",
       "      <td>...</td>\n",
       "    </tr>\n",
       "    <tr>\n",
       "      <th>7685</th>\n",
       "      <td>Netherlands</td>\n",
       "      <td>USED BOAT</td>\n",
       "      <td>2020</td>\n",
       "      <td>powerboats</td>\n",
       "      <td>Cabin Cruiser</td>\n",
       "      <td>GRP</td>\n",
       "      <td>6.19</td>\n",
       "      <td>2.38</td>\n",
       "      <td>0.88</td>\n",
       "      <td>1</td>\n",
       "      <td>150.0</td>\n",
       "      <td>110.0</td>\n",
       "      <td>44900.0</td>\n",
       "    </tr>\n",
       "    <tr>\n",
       "      <th>7686</th>\n",
       "      <td>Germany</td>\n",
       "      <td>NEW BOAT</td>\n",
       "      <td>2022</td>\n",
       "      <td>powerboats</td>\n",
       "      <td>Sloep</td>\n",
       "      <td>GRP</td>\n",
       "      <td>7.00</td>\n",
       "      <td>2.50</td>\n",
       "      <td>0.70</td>\n",
       "      <td>1</td>\n",
       "      <td>42.0</td>\n",
       "      <td>31.0</td>\n",
       "      <td>77670.0</td>\n",
       "    </tr>\n",
       "    <tr>\n",
       "      <th>7687</th>\n",
       "      <td>Netherlands</td>\n",
       "      <td>NEW BOAT</td>\n",
       "      <td>2022</td>\n",
       "      <td>powerboats</td>\n",
       "      <td>Sloep</td>\n",
       "      <td>Aluminium</td>\n",
       "      <td>7.38</td>\n",
       "      <td>2.70</td>\n",
       "      <td>0.60</td>\n",
       "      <td>1</td>\n",
       "      <td>100.0</td>\n",
       "      <td>74.0</td>\n",
       "      <td>69500.0</td>\n",
       "    </tr>\n",
       "    <tr>\n",
       "      <th>7688</th>\n",
       "      <td>Germany</td>\n",
       "      <td>USED BOAT</td>\n",
       "      <td>2014</td>\n",
       "      <td>sailingboats</td>\n",
       "      <td>Center Cockpit</td>\n",
       "      <td>Wood</td>\n",
       "      <td>16.80</td>\n",
       "      <td>4.50</td>\n",
       "      <td>2.30</td>\n",
       "      <td>1</td>\n",
       "      <td>85.0</td>\n",
       "      <td>63.0</td>\n",
       "      <td>250000.0</td>\n",
       "    </tr>\n",
       "    <tr>\n",
       "      <th>7689</th>\n",
       "      <td>Poland</td>\n",
       "      <td>USED BOAT</td>\n",
       "      <td>2023</td>\n",
       "      <td>powerboats</td>\n",
       "      <td>Houseboat</td>\n",
       "      <td>Steel</td>\n",
       "      <td>11.70</td>\n",
       "      <td>3.60</td>\n",
       "      <td>0.40</td>\n",
       "      <td>1</td>\n",
       "      <td>90.0</td>\n",
       "      <td>66.0</td>\n",
       "      <td>105000.0</td>\n",
       "    </tr>\n",
       "  </tbody>\n",
       "</table>\n",
       "<p>7690 rows × 13 columns</p>\n",
       "</div>"
      ],
      "text/plain": [
       "         LOCATION  CONDITION  YEAR BUILT      CATEGORY     SUBCATEGORY  \\\n",
       "0           Italy  USED BOAT        2015  sailingboats       Catamaran   \n",
       "1     Netherlands  USED BOAT        1916    powerboats         Trawler   \n",
       "2     Switzerland  USED BOAT        1981  sailingboats   Sailing Yacht   \n",
       "3         Germany  USED BOAT        1978  sailingboats        Keelboat   \n",
       "4     Netherlands  USED BOAT        2001    powerboats           Sloep   \n",
       "...           ...        ...         ...           ...             ...   \n",
       "7685  Netherlands  USED BOAT        2020    powerboats   Cabin Cruiser   \n",
       "7686      Germany   NEW BOAT        2022    powerboats           Sloep   \n",
       "7687  Netherlands   NEW BOAT        2022    powerboats           Sloep   \n",
       "7688      Germany  USED BOAT        2014  sailingboats  Center Cockpit   \n",
       "7689       Poland  USED BOAT        2023    powerboats       Houseboat   \n",
       "\n",
       "       MATERIAL  LENGTH (m)  BEAM (m)  DRAUGHT  NUM_ENGINES  ENGINE_HP  \\\n",
       "0           GRP       23.00     10.40     2.40            2      240.0   \n",
       "1         Steel       18.60      3.62     1.10            1      160.0   \n",
       "2           GRP        8.90      3.10     1.52            1       19.0   \n",
       "3           GRP        7.30      2.30     0.40            1       60.0   \n",
       "4           GRP        7.20      2.45     0.60            1       24.0   \n",
       "...         ...         ...       ...      ...          ...        ...   \n",
       "7685        GRP        6.19      2.38     0.88            1      150.0   \n",
       "7686        GRP        7.00      2.50     0.70            1       42.0   \n",
       "7687  Aluminium        7.38      2.70     0.60            1      100.0   \n",
       "7688       Wood       16.80      4.50     2.30            1       85.0   \n",
       "7689      Steel       11.70      3.60     0.40            1       90.0   \n",
       "\n",
       "      ENGINE_KW  PRICE_EUR  \n",
       "0         177.0  2700000.0  \n",
       "1         118.0    79500.0  \n",
       "2          14.0    20298.0  \n",
       "3          44.0     5500.0  \n",
       "4          18.0    44500.0  \n",
       "...         ...        ...  \n",
       "7685      110.0    44900.0  \n",
       "7686       31.0    77670.0  \n",
       "7687       74.0    69500.0  \n",
       "7688       63.0   250000.0  \n",
       "7689       66.0   105000.0  \n",
       "\n",
       "[7690 rows x 13 columns]"
      ]
     },
     "execution_count": 19,
     "metadata": {},
     "output_type": "execute_result"
    }
   ],
   "source": [
    "df_boats"
   ]
  },
  {
   "cell_type": "code",
   "execution_count": 20,
   "metadata": {},
   "outputs": [],
   "source": [
    "df_lencoder = label_encoder(df_boats, 'LOCATION', 'CONDITION', 'CATEGORY', 'SUBCATEGORY', 'MATERIAL')"
   ]
  },
  {
   "cell_type": "code",
   "execution_count": 21,
   "metadata": {},
   "outputs": [
    {
     "data": {
      "text/html": [
       "<div>\n",
       "<style scoped>\n",
       "    .dataframe tbody tr th:only-of-type {\n",
       "        vertical-align: middle;\n",
       "    }\n",
       "\n",
       "    .dataframe tbody tr th {\n",
       "        vertical-align: top;\n",
       "    }\n",
       "\n",
       "    .dataframe thead th {\n",
       "        text-align: right;\n",
       "    }\n",
       "</style>\n",
       "<table border=\"1\" class=\"dataframe\">\n",
       "  <thead>\n",
       "    <tr style=\"text-align: right;\">\n",
       "      <th></th>\n",
       "      <th>LOCATION</th>\n",
       "      <th>CONDITION</th>\n",
       "      <th>YEAR BUILT</th>\n",
       "      <th>CATEGORY</th>\n",
       "      <th>SUBCATEGORY</th>\n",
       "      <th>MATERIAL</th>\n",
       "      <th>LENGTH (m)</th>\n",
       "      <th>BEAM (m)</th>\n",
       "      <th>DRAUGHT</th>\n",
       "      <th>NUM_ENGINES</th>\n",
       "      <th>ENGINE_HP</th>\n",
       "      <th>ENGINE_KW</th>\n",
       "      <th>PRICE_EUR</th>\n",
       "    </tr>\n",
       "  </thead>\n",
       "  <tbody>\n",
       "    <tr>\n",
       "      <th>0</th>\n",
       "      <td>27</td>\n",
       "      <td>1</td>\n",
       "      <td>2015</td>\n",
       "      <td>2</td>\n",
       "      <td>2</td>\n",
       "      <td>3</td>\n",
       "      <td>23.00</td>\n",
       "      <td>10.40</td>\n",
       "      <td>2.40</td>\n",
       "      <td>2</td>\n",
       "      <td>240.0</td>\n",
       "      <td>177.0</td>\n",
       "      <td>2700000.0</td>\n",
       "    </tr>\n",
       "    <tr>\n",
       "      <th>1</th>\n",
       "      <td>41</td>\n",
       "      <td>1</td>\n",
       "      <td>1916</td>\n",
       "      <td>1</td>\n",
       "      <td>40</td>\n",
       "      <td>7</td>\n",
       "      <td>18.60</td>\n",
       "      <td>3.62</td>\n",
       "      <td>1.10</td>\n",
       "      <td>1</td>\n",
       "      <td>160.0</td>\n",
       "      <td>118.0</td>\n",
       "      <td>79500.0</td>\n",
       "    </tr>\n",
       "    <tr>\n",
       "      <th>2</th>\n",
       "      <td>56</td>\n",
       "      <td>1</td>\n",
       "      <td>1981</td>\n",
       "      <td>2</td>\n",
       "      <td>36</td>\n",
       "      <td>3</td>\n",
       "      <td>8.90</td>\n",
       "      <td>3.10</td>\n",
       "      <td>1.52</td>\n",
       "      <td>1</td>\n",
       "      <td>19.0</td>\n",
       "      <td>14.0</td>\n",
       "      <td>20298.0</td>\n",
       "    </tr>\n",
       "    <tr>\n",
       "      <th>3</th>\n",
       "      <td>17</td>\n",
       "      <td>1</td>\n",
       "      <td>1978</td>\n",
       "      <td>2</td>\n",
       "      <td>21</td>\n",
       "      <td>3</td>\n",
       "      <td>7.30</td>\n",
       "      <td>2.30</td>\n",
       "      <td>0.40</td>\n",
       "      <td>1</td>\n",
       "      <td>60.0</td>\n",
       "      <td>44.0</td>\n",
       "      <td>5500.0</td>\n",
       "    </tr>\n",
       "    <tr>\n",
       "      <th>4</th>\n",
       "      <td>41</td>\n",
       "      <td>1</td>\n",
       "      <td>2001</td>\n",
       "      <td>1</td>\n",
       "      <td>37</td>\n",
       "      <td>3</td>\n",
       "      <td>7.20</td>\n",
       "      <td>2.45</td>\n",
       "      <td>0.60</td>\n",
       "      <td>1</td>\n",
       "      <td>24.0</td>\n",
       "      <td>18.0</td>\n",
       "      <td>44500.0</td>\n",
       "    </tr>\n",
       "    <tr>\n",
       "      <th>...</th>\n",
       "      <td>...</td>\n",
       "      <td>...</td>\n",
       "      <td>...</td>\n",
       "      <td>...</td>\n",
       "      <td>...</td>\n",
       "      <td>...</td>\n",
       "      <td>...</td>\n",
       "      <td>...</td>\n",
       "      <td>...</td>\n",
       "      <td>...</td>\n",
       "      <td>...</td>\n",
       "      <td>...</td>\n",
       "      <td>...</td>\n",
       "    </tr>\n",
       "    <tr>\n",
       "      <th>7685</th>\n",
       "      <td>41</td>\n",
       "      <td>1</td>\n",
       "      <td>2020</td>\n",
       "      <td>1</td>\n",
       "      <td>1</td>\n",
       "      <td>3</td>\n",
       "      <td>6.19</td>\n",
       "      <td>2.38</td>\n",
       "      <td>0.88</td>\n",
       "      <td>1</td>\n",
       "      <td>150.0</td>\n",
       "      <td>110.0</td>\n",
       "      <td>44900.0</td>\n",
       "    </tr>\n",
       "    <tr>\n",
       "      <th>7686</th>\n",
       "      <td>17</td>\n",
       "      <td>0</td>\n",
       "      <td>2022</td>\n",
       "      <td>1</td>\n",
       "      <td>37</td>\n",
       "      <td>3</td>\n",
       "      <td>7.00</td>\n",
       "      <td>2.50</td>\n",
       "      <td>0.70</td>\n",
       "      <td>1</td>\n",
       "      <td>42.0</td>\n",
       "      <td>31.0</td>\n",
       "      <td>77670.0</td>\n",
       "    </tr>\n",
       "    <tr>\n",
       "      <th>7687</th>\n",
       "      <td>41</td>\n",
       "      <td>0</td>\n",
       "      <td>2022</td>\n",
       "      <td>1</td>\n",
       "      <td>37</td>\n",
       "      <td>0</td>\n",
       "      <td>7.38</td>\n",
       "      <td>2.70</td>\n",
       "      <td>0.60</td>\n",
       "      <td>1</td>\n",
       "      <td>100.0</td>\n",
       "      <td>74.0</td>\n",
       "      <td>69500.0</td>\n",
       "    </tr>\n",
       "    <tr>\n",
       "      <th>7688</th>\n",
       "      <td>17</td>\n",
       "      <td>1</td>\n",
       "      <td>2014</td>\n",
       "      <td>2</td>\n",
       "      <td>3</td>\n",
       "      <td>8</td>\n",
       "      <td>16.80</td>\n",
       "      <td>4.50</td>\n",
       "      <td>2.30</td>\n",
       "      <td>1</td>\n",
       "      <td>85.0</td>\n",
       "      <td>63.0</td>\n",
       "      <td>250000.0</td>\n",
       "    </tr>\n",
       "    <tr>\n",
       "      <th>7689</th>\n",
       "      <td>46</td>\n",
       "      <td>1</td>\n",
       "      <td>2023</td>\n",
       "      <td>1</td>\n",
       "      <td>20</td>\n",
       "      <td>7</td>\n",
       "      <td>11.70</td>\n",
       "      <td>3.60</td>\n",
       "      <td>0.40</td>\n",
       "      <td>1</td>\n",
       "      <td>90.0</td>\n",
       "      <td>66.0</td>\n",
       "      <td>105000.0</td>\n",
       "    </tr>\n",
       "  </tbody>\n",
       "</table>\n",
       "<p>7690 rows × 13 columns</p>\n",
       "</div>"
      ],
      "text/plain": [
       "      LOCATION  CONDITION  YEAR BUILT  CATEGORY  SUBCATEGORY  MATERIAL  \\\n",
       "0           27          1        2015         2            2         3   \n",
       "1           41          1        1916         1           40         7   \n",
       "2           56          1        1981         2           36         3   \n",
       "3           17          1        1978         2           21         3   \n",
       "4           41          1        2001         1           37         3   \n",
       "...        ...        ...         ...       ...          ...       ...   \n",
       "7685        41          1        2020         1            1         3   \n",
       "7686        17          0        2022         1           37         3   \n",
       "7687        41          0        2022         1           37         0   \n",
       "7688        17          1        2014         2            3         8   \n",
       "7689        46          1        2023         1           20         7   \n",
       "\n",
       "      LENGTH (m)  BEAM (m)  DRAUGHT  NUM_ENGINES  ENGINE_HP  ENGINE_KW  \\\n",
       "0          23.00     10.40     2.40            2      240.0      177.0   \n",
       "1          18.60      3.62     1.10            1      160.0      118.0   \n",
       "2           8.90      3.10     1.52            1       19.0       14.0   \n",
       "3           7.30      2.30     0.40            1       60.0       44.0   \n",
       "4           7.20      2.45     0.60            1       24.0       18.0   \n",
       "...          ...       ...      ...          ...        ...        ...   \n",
       "7685        6.19      2.38     0.88            1      150.0      110.0   \n",
       "7686        7.00      2.50     0.70            1       42.0       31.0   \n",
       "7687        7.38      2.70     0.60            1      100.0       74.0   \n",
       "7688       16.80      4.50     2.30            1       85.0       63.0   \n",
       "7689       11.70      3.60     0.40            1       90.0       66.0   \n",
       "\n",
       "      PRICE_EUR  \n",
       "0     2700000.0  \n",
       "1       79500.0  \n",
       "2       20298.0  \n",
       "3        5500.0  \n",
       "4       44500.0  \n",
       "...         ...  \n",
       "7685    44900.0  \n",
       "7686    77670.0  \n",
       "7687    69500.0  \n",
       "7688   250000.0  \n",
       "7689   105000.0  \n",
       "\n",
       "[7690 rows x 13 columns]"
      ]
     },
     "execution_count": 21,
     "metadata": {},
     "output_type": "execute_result"
    }
   ],
   "source": [
    "df_lencoder"
   ]
  },
  {
   "cell_type": "markdown",
   "metadata": {},
   "source": [
    "label_encoded_boats = df_boats\n",
    "columns_to_encode = ['LOCATION', 'CONDITION', 'CATEGORY', 'SUBCATEGORY', 'MATERIAL']\n",
    "label_encoder = LabelEncoder()\n",
    "for column in columns_to_encode:\n",
    "    label_encoded_boats[column] = label_encoder.fit_transform(label_encoded_boats[column])"
   ]
  },
  {
   "cell_type": "code",
   "execution_count": 22,
   "metadata": {},
   "outputs": [
    {
     "name": "stdout",
     "output_type": "stream",
     "text": [
      "Training: LinearRegression()\n",
      "Training: Ridge()\n",
      "Training: Lasso()\n",
      "Training: SGDRegressor()\n",
      "Training: KNeighborsRegressor()\n",
      "Training: GradientBoostingRegressor()\n"
     ]
    },
    {
     "name": "stderr",
     "output_type": "stream",
     "text": [
      "/opt/anaconda3/lib/python3.9/site-packages/sklearn/linear_model/_coordinate_descent.py:647: ConvergenceWarning: Objective did not converge. You might want to increase the number of iterations, check the scale of the features or consider increasing regularisation. Duality gap: 2.552e+15, tolerance: 7.968e+11\n",
      "  model = cd_fast.enet_coordinate_descent(\n"
     ]
    },
    {
     "name": "stdout",
     "output_type": "stream",
     "text": [
      "Training: SVR()\n",
      "------------lr------------\n",
      "\n",
      "MAE, error: 298035.92956541013\n",
      "MSE, error: 305169274244.0517\n",
      "RMSE, error: 552421.2833011159\n",
      "r2: 0.48176515783072493\n",
      "\n",
      "\n",
      "------------ridge------------\n",
      "\n",
      "MAE, error: 298018.3102369912\n",
      "MSE, error: 305166691266.1954\n",
      "RMSE, error: 552418.9454265625\n",
      "r2: 0.48176954421308604\n",
      "\n",
      "\n",
      "------------lasso------------\n",
      "\n",
      "MAE, error: 298319.1165373445\n",
      "MSE, error: 305295823286.79553\n",
      "RMSE, error: 552535.8117686089\n",
      "r2: 0.4815502537472274\n",
      "\n",
      "\n",
      "------------sgd------------\n",
      "\n",
      "MAE, error: 702209024752566.1\n",
      "MSE, error: 5.4132083814215556e+29\n",
      "RMSE, error: 735745090464187.6\n",
      "r2: -9.192646271891434e+17\n",
      "\n",
      "\n",
      "------------knn------------\n",
      "\n",
      "MAE, error: 172165.19078283483\n",
      "MSE, error: 286109405610.6389\n",
      "RMSE, error: 534891.9569507836\n",
      "r2: 0.5141324006911727\n",
      "\n",
      "\n",
      "------------grad------------\n",
      "\n",
      "MAE, error: 144654.72902163558\n",
      "MSE, error: 446773242832.57446\n",
      "RMSE, error: 668410.9834769133\n",
      "r2: 0.24129497781735665\n",
      "\n",
      "\n",
      "------------svr------------\n",
      "\n",
      "MAE, error: 257434.08076318481\n",
      "MSE, error: 630015139256.8579\n",
      "RMSE, error: 793734.930097484\n",
      "r2: -0.06988423741482097\n",
      "\n",
      "\n"
     ]
    }
   ],
   "source": [
    "get_models(df_lencoder)"
   ]
  },
  {
   "cell_type": "markdown",
   "metadata": {},
   "source": [
    "x = label_encoded_boats.drop(columns=['PRICE_EUR'])\n",
    "y = label_encoded_boats.PRICE_EUR\n",
    "x_train, x_test, y_train, y_test = train_test_split(x, y, test_size=0.2)\n",
    "\n",
    "models = {\n",
    "    \"lr\": LinReg(),\n",
    "    \"ridge\": Ridge(), #lr similar\n",
    "    \"lasso\": Lasso(), # lr similar \n",
    "    \"sgd\": SGDRegressor(),\n",
    "    \"knn\": KNeighborsRegressor(),\n",
    "    \"grad\": GradientBoostingRegressor(),\n",
    "    \"svr\": SVR() #potato chip\n",
    "}\n",
    "\n",
    "for model in models.values():\n",
    "    print(f\"Training: {model}\")\n",
    "    model.fit(x_train, y_train)\n",
    "\n",
    "for name, model in models.items():\n",
    "    y_pred = model.predict(x_test)\n",
    "    print(f\"------------{name}------------\\n\")\n",
    "    print(f\"MAE, error: {metrics.mean_absolute_error(y_test, y_pred)}\")\n",
    "    print(f\"MSE, error: {metrics.mean_squared_error(y_test, y_pred)}\")\n",
    "    print(f\"RMSE, error: {np.sqrt(metrics.mean_squared_error(y_test, y_pred))}\")\n",
    "    print(f\"r2: {metrics.r2_score(y_test, y_pred)}\")\n",
    "    print(\"\\n\")"
   ]
  },
  {
   "cell_type": "markdown",
   "metadata": {},
   "source": [
    "Let's get rid of outliers:"
   ]
  },
  {
   "cell_type": "code",
   "execution_count": 23,
   "metadata": {},
   "outputs": [],
   "source": [
    "q1 = df_boats['PRICE_EUR'].quantile(0.25)\n",
    "q3 = df_boats['PRICE_EUR'].quantile(0.75)\n",
    "iqr = q3 - q1\n",
    "lower_bound = q1 - 1.5 * iqr\n",
    "upper_bound = q3 + 1.5 * iqr\n",
    "outliers = df_boats[(df_boats['PRICE_EUR'] < lower_bound) | (df_boats['PRICE_EUR'] > upper_bound)]"
   ]
  },
  {
   "cell_type": "code",
   "execution_count": 24,
   "metadata": {},
   "outputs": [],
   "source": [
    "df_without_outliers = df_boats.drop(outliers.index)"
   ]
  },
  {
   "cell_type": "code",
   "execution_count": 25,
   "metadata": {},
   "outputs": [
    {
     "data": {
      "text/plain": [
       "(6903, 13)"
      ]
     },
     "execution_count": 25,
     "metadata": {},
     "output_type": "execute_result"
    }
   ],
   "source": [
    "df_without_outliers.shape"
   ]
  },
  {
   "cell_type": "markdown",
   "metadata": {},
   "source": [
    "with dummies:"
   ]
  },
  {
   "cell_type": "code",
   "execution_count": 26,
   "metadata": {},
   "outputs": [],
   "source": [
    "df_dummies = get_dummies(df_without_outliers, 'LOCATION', 'CONDITION', 'CATEGORY', 'SUBCATEGORY', 'MATERIAL')"
   ]
  },
  {
   "cell_type": "code",
   "execution_count": 27,
   "metadata": {},
   "outputs": [
    {
     "name": "stdout",
     "output_type": "stream",
     "text": [
      "Training: LinearRegression()\n",
      "Training: Ridge()\n",
      "Training: Lasso()\n",
      "Training: SGDRegressor()\n",
      "Training: KNeighborsRegressor()\n",
      "Training: GradientBoostingRegressor()\n"
     ]
    },
    {
     "name": "stderr",
     "output_type": "stream",
     "text": [
      "/opt/anaconda3/lib/python3.9/site-packages/sklearn/linear_model/_coordinate_descent.py:647: ConvergenceWarning: Objective did not converge. You might want to increase the number of iterations, check the scale of the features or consider increasing regularisation. Duality gap: 2.370e+13, tolerance: 9.789e+09\n",
      "  model = cd_fast.enet_coordinate_descent(\n"
     ]
    },
    {
     "name": "stdout",
     "output_type": "stream",
     "text": [
      "Training: SVR()\n",
      "------------lr------------\n",
      "\n",
      "MAE, error: 58567.09675438138\n",
      "MSE, error: 6887219381.829954\n",
      "RMSE, error: 82989.27269129398\n",
      "r2: 0.5774060677760815\n",
      "\n",
      "\n",
      "------------ridge------------\n",
      "\n",
      "MAE, error: 58566.58779541415\n",
      "MSE, error: 6887109049.476006\n",
      "RMSE, error: 82988.60794998314\n",
      "r2: 0.5774128376756189\n",
      "\n",
      "\n",
      "------------lasso------------\n",
      "\n",
      "MAE, error: 58561.76829672876\n",
      "MSE, error: 6886718546.692929\n",
      "RMSE, error: 82986.25516730423\n",
      "r2: 0.5774367985947497\n",
      "\n",
      "\n",
      "------------sgd------------\n",
      "\n",
      "MAE, error: 1121660435891073.6\n",
      "MSE, error: 1.5282678117853932e+30\n",
      "RMSE, error: 1236231293806055.2\n",
      "r2: -9.377321503326819e+19\n",
      "\n",
      "\n",
      "------------knn------------\n",
      "\n",
      "MAE, error: 46431.48291172214\n",
      "MSE, error: 5802236203.323749\n",
      "RMSE, error: 76172.41103788004\n",
      "r2: 0.6439797141755834\n",
      "\n",
      "\n",
      "------------grad------------\n",
      "\n",
      "MAE, error: 40000.05460072023\n",
      "MSE, error: 3950563038.218108\n",
      "RMSE, error: 62853.50458182987\n",
      "r2: 0.7575968070331057\n",
      "\n",
      "\n",
      "------------svr------------\n",
      "\n",
      "MAE, error: 92532.03520136912\n",
      "MSE, error: 18456779529.221695\n",
      "RMSE, error: 135855.730571889\n",
      "r2: -0.13249231729443034\n",
      "\n",
      "\n"
     ]
    }
   ],
   "source": [
    "get_models(df_dummies)"
   ]
  },
  {
   "cell_type": "markdown",
   "metadata": {},
   "source": [
    "with label encoder:"
   ]
  },
  {
   "cell_type": "code",
   "execution_count": 28,
   "metadata": {},
   "outputs": [],
   "source": [
    "df_lencoded = label_encoder(df_without_outliers, 'LOCATION', 'CONDITION', 'CATEGORY', 'SUBCATEGORY', 'MATERIAL')"
   ]
  },
  {
   "cell_type": "code",
   "execution_count": 29,
   "metadata": {},
   "outputs": [
    {
     "name": "stdout",
     "output_type": "stream",
     "text": [
      "Training: LinearRegression()\n",
      "Training: Ridge()\n",
      "Training: Lasso()\n",
      "Training: SGDRegressor()\n",
      "Training: KNeighborsRegressor()\n",
      "Training: GradientBoostingRegressor()\n"
     ]
    },
    {
     "name": "stderr",
     "output_type": "stream",
     "text": [
      "/opt/anaconda3/lib/python3.9/site-packages/sklearn/linear_model/_coordinate_descent.py:647: ConvergenceWarning: Objective did not converge. You might want to increase the number of iterations, check the scale of the features or consider increasing regularisation. Duality gap: 2.060e+13, tolerance: 8.817e+09\n",
      "  model = cd_fast.enet_coordinate_descent(\n"
     ]
    },
    {
     "name": "stdout",
     "output_type": "stream",
     "text": [
      "Training: SVR()\n",
      "------------lr------------\n",
      "\n",
      "MAE, error: 58327.434633740195\n",
      "MSE, error: 7349978754.329785\n",
      "RMSE, error: 85732.01709005676\n",
      "r2: 0.5159849338189233\n",
      "\n",
      "\n",
      "------------ridge------------\n",
      "\n",
      "MAE, error: 58328.25028113646\n",
      "MSE, error: 7350093058.252591\n",
      "RMSE, error: 85732.68372244386\n",
      "r2: 0.5159774066106673\n",
      "\n",
      "\n",
      "------------lasso------------\n",
      "\n",
      "MAE, error: 58332.571812203794\n",
      "MSE, error: 7350254647.505541\n",
      "RMSE, error: 85733.62611895954\n",
      "r2: 0.5159667655414104\n",
      "\n",
      "\n",
      "------------sgd------------\n",
      "\n",
      "MAE, error: 112130014578344.1\n",
      "MSE, error: 1.280379723319686e+28\n",
      "RMSE, error: 113153865303828.05\n",
      "r2: -8.431630855455398e+17\n",
      "\n",
      "\n",
      "------------knn------------\n",
      "\n",
      "MAE, error: 56214.02065459812\n",
      "MSE, error: 7499522092.576439\n",
      "RMSE, error: 86599.78113469132\n",
      "r2: 0.5061371191275197\n",
      "\n",
      "\n",
      "------------grad------------\n",
      "\n",
      "MAE, error: 41293.71501646861\n",
      "MSE, error: 4407889193.381906\n",
      "RMSE, error: 66391.93620750871\n",
      "r2: 0.7097291229043641\n",
      "\n",
      "\n",
      "------------svr------------\n",
      "\n",
      "MAE, error: 88793.46628990193\n",
      "MSE, error: 17178008791.412527\n",
      "RMSE, error: 131064.90297334571\n",
      "r2: -0.13121620346680984\n",
      "\n",
      "\n"
     ]
    }
   ],
   "source": [
    "x = df_lencoded.drop(columns=['PRICE_EUR'])\n",
    "y = df_lencoded.PRICE_EUR\n",
    "x_train, x_test, y_train, y_test = train_test_split(x, y, test_size=0.2)\n",
    "\n",
    "models = {\n",
    "    \"lr\": LinReg(),\n",
    "    \"ridge\": Ridge(), #lr similar\n",
    "    \"lasso\": Lasso(), # lr similar \n",
    "    \"sgd\": SGDRegressor(),\n",
    "    \"knn\": KNeighborsRegressor(),\n",
    "    \"grad\": GradientBoostingRegressor(),\n",
    "    \"svr\": SVR() #potato chip\n",
    "}\n",
    "\n",
    "for model in models.values():\n",
    "    print(f\"Training: {model}\")\n",
    "    model.fit(x_train, y_train)\n",
    "\n",
    "for name, model in models.items():\n",
    "    y_pred = model.predict(x_test)\n",
    "    print(f\"------------{name}------------\\n\")\n",
    "    print(f\"MAE, error: {metrics.mean_absolute_error(y_test, y_pred)}\")\n",
    "    print(f\"MSE, error: {metrics.mean_squared_error(y_test, y_pred)}\")\n",
    "    print(f\"RMSE, error: {np.sqrt(metrics.mean_squared_error(y_test, y_pred))}\")\n",
    "    print(f\"r2: {metrics.r2_score(y_test, y_pred)}\")\n",
    "    print(\"\\n\")"
   ]
  },
  {
   "cell_type": "code",
   "execution_count": 30,
   "metadata": {},
   "outputs": [
    {
     "data": {
      "text/plain": [
       "array([0.0047024 , 0.00666401, 0.25493887, 0.00045899, 0.00352752,\n",
       "       0.00356945, 0.40972801, 0.2145324 , 0.01735962, 0.01757887,\n",
       "       0.04532561, 0.02161426])"
      ]
     },
     "execution_count": 30,
     "metadata": {},
     "output_type": "execute_result"
    }
   ],
   "source": [
    "models['grad'].feature_importances_"
   ]
  },
  {
   "cell_type": "code",
   "execution_count": 31,
   "metadata": {},
   "outputs": [
    {
     "data": {
      "text/plain": [
       "Index(['LOCATION', 'CONDITION', 'YEAR BUILT', 'CATEGORY', 'SUBCATEGORY',\n",
       "       'MATERIAL', 'LENGTH (m)', 'BEAM (m)', 'DRAUGHT', 'NUM_ENGINES',\n",
       "       'ENGINE_HP', 'ENGINE_KW', 'PRICE_EUR'],\n",
       "      dtype='object')"
      ]
     },
     "execution_count": 31,
     "metadata": {},
     "output_type": "execute_result"
    }
   ],
   "source": [
    "df_lencoded.columns"
   ]
  },
  {
   "cell_type": "code",
   "execution_count": 32,
   "metadata": {},
   "outputs": [],
   "source": [
    "df_without_outliers.drop(columns=['CATEGORY'], inplace=True)"
   ]
  },
  {
   "cell_type": "code",
   "execution_count": 33,
   "metadata": {},
   "outputs": [],
   "source": [
    "df_lencoded = label_encoder(df_without_outliers, 'LOCATION', 'CONDITION', 'SUBCATEGORY', 'MATERIAL')"
   ]
  },
  {
   "cell_type": "code",
   "execution_count": 34,
   "metadata": {},
   "outputs": [
    {
     "data": {
      "text/plain": [
       "<AxesSubplot: xlabel='PRICE_EUR', ylabel='Count'>"
      ]
     },
     "execution_count": 34,
     "metadata": {},
     "output_type": "execute_result"
    },
    {
     "data": {
      "image/png": "[encoded data removed]",
      "text/plain": [
       "<Figure size 640x480 with 1 Axes>"
      ]
     },
     "metadata": {},
     "output_type": "display_data"
    }
   ],
   "source": [
    "sns.histplot(df_without_outliers.PRICE_EUR)\n",
    "#sns.boxplot(df_without_outliers.PRICE_EUR)"
   ]
  },
  {
   "cell_type": "code",
   "execution_count": 35,
   "metadata": {},
   "outputs": [
    {
     "data": {
      "text/plain": [
       "<AxesSubplot: xlabel='PRICE_EUR'>"
      ]
     },
     "execution_count": 35,
     "metadata": {},
     "output_type": "execute_result"
    },
    {
     "data": {
      "image/png": "[encoded data removed]",
      "text/plain": [
       "<Figure size 640x480 with 1 Axes>"
      ]
     },
     "metadata": {},
     "output_type": "display_data"
    }
   ],
   "source": [
    "sns.boxplot(x=df_without_outliers[\"PRICE_EUR\"])"
   ]
  },
  {
   "cell_type": "code",
   "execution_count": null,
   "metadata": {},
   "outputs": [],
   "source": []
  },
  {
   "cell_type": "code",
   "execution_count": null,
   "metadata": {},
   "outputs": [],
   "source": []
  }
 ],
 "metadata": {
  "kernelspec": {
   "display_name": "base",
   "language": "python",
   "name": "python3"
  },
  "language_info": {
   "codemirror_mode": {
    "name": "ipython",
    "version": 3
   },
   "file_extension": ".py",
   "mimetype": "text/x-python",
   "name": "python",
   "nbconvert_exporter": "python",
   "pygments_lexer": "ipython3",
   "version": "3.9.16"
  },
  "orig_nbformat": 4
 },
 "nbformat": 4,
 "nbformat_minor": 2
}
